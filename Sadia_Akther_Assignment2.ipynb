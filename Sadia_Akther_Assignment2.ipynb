{
 "cells": [
  {
   "cell_type": "code",
   "execution_count": 1,
   "metadata": {},
   "outputs": [
    {
     "name": "stdout",
     "output_type": "stream",
     "text": [
      "Edit distance between 'kitten' to 'sitting' is 3\n",
      "Edit distance between 'GAMBOL' to 'GUMBO' is 2\n"
     ]
    }
   ],
   "source": [
    "def edit_distance(s1, s2):\n",
    "    \n",
    "    a, b = len(s1), len(s2)\n",
    "    num = [[0] * (b + 1) for _ in range(a + 1)]\n",
    "\n",
    "    \n",
    "    for i in range(a + 1):\n",
    "        num[i][0] = i\n",
    "    for j in range(b + 1):\n",
    "        num[0][j] = j\n",
    "\n",
    "   \n",
    "    for i in range(1, a + 1):\n",
    "        for j in range(1, b + 1):\n",
    "            cost = 0 if s1[i - 1] == s2[j - 1] else 1\n",
    "            num[i][j] = min(\n",
    "                num[i - 1][j] + 1,      \n",
    "                num[i][j - 1] + 1,     \n",
    "                num[i - 1][j - 1] + cost  \n",
    "            )\n",
    "\n",
    "    return num[a][b]\n",
    "\n",
    "# Example 1\n",
    "sString1 = \"kitten\"\n",
    "sString2 = \"sitting\"\n",
    "distance1 = edit_distance(sString1, sString2)\n",
    "print(f\"Edit distance between '{sString1}' to '{sString2}' is {distance1}\")\n",
    "\n",
    "# Example 2\n",
    "sString1 = \"GAMBOL\"\n",
    "sString2 = \"GUMBO\"\n",
    "distance2 = edit_distance(sString1, sString2)\n",
    "print(f\"Edit distance between '{sString1}' to '{sString2}' is {distance2}\")\n"
   ]
  },
  {
   "cell_type": "markdown",
   "metadata": {},
   "source": [
    "The edit distance algorithm is the minimum number of operations required to transform one string into the other. In example 1, \"kitten\" to \"sitting,\" first it begings with by substituting 'k' with 's', 'e' with 'i', and adding 'g' at the end.Which that result the output to be 3 since it's being changed 3 items to get to \"sitting\". Furthermore, in example 2,  \"GAMBOL\" to \"GUMBO,\" the output is 2 because transform \"GAMBOL\" into \"GUMBO\" by substituting 'A' with 'U' and adding 'U' at the end."
   ]
  }
 ],
 "metadata": {
  "kernelspec": {
   "display_name": "Python 3",
   "language": "python",
   "name": "python3"
  },
  "language_info": {
   "codemirror_mode": {
    "name": "ipython",
    "version": 3
   },
   "file_extension": ".py",
   "mimetype": "text/x-python",
   "name": "python",
   "nbconvert_exporter": "python",
   "pygments_lexer": "ipython3",
   "version": "3.10.6"
  },
  "orig_nbformat": 4
 },
 "nbformat": 4,
 "nbformat_minor": 2
}
