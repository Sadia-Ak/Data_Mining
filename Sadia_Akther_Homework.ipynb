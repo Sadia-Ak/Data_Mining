{
 "cells": [
  {
   "cell_type": "code",
   "execution_count": 11,
   "metadata": {},
   "outputs": [
    {
     "name": "stdout",
     "output_type": "stream",
     "text": [
      "Mean: 31.2\n",
      "Median: 27.0\n",
      "Mode: [27]\n"
     ]
    }
   ],
   "source": [
    "# problem 1\n",
    "\n",
    "import numpy as np \n",
    "\n",
    "\n",
    "data = np.array([46, 25, 27, 27, 28, 36, 53, 27, 18, 25])\n",
    "\n",
    "mean = sum(data) / len(data)\n",
    "\n",
    "# Calculate the median\n",
    "sorted_data = sorted(data)\n",
    "n = len(sorted_data)\n",
    "if n % 2 == 0:\n",
    "    median = (sorted_data[n // 2 - 1] + sorted_data[n // 2]) / 2\n",
    "else:\n",
    "    median = sorted_data[n // 2]\n",
    "\n",
    "# Calculate the mode\n",
    "from collections import Counter\n",
    "count = Counter(data)\n",
    "mode = [i for i, j in count.items() if j == max(count.values())]\n",
    "\n",
    "print(\"Mean:\", mean)\n",
    "print(\"Median:\", median)\n",
    "print(\"Mode:\", mode)\n"
   ]
  },
  {
   "cell_type": "code",
   "execution_count": 12,
   "metadata": {},
   "outputs": [
    {
     "name": "stdout",
     "output_type": "stream",
     "text": [
      "Minimum: 52.3\n",
      "Maximum: 89.1\n",
      "Median: 72.6\n",
      "Q1: 60.31\n",
      "Q3: 84.174\n"
     ]
    },
    {
     "data": {
      "image/png": "[encoded data removed]",
      "text/plain": [
       "<Figure size 640x480 with 1 Axes>"
      ]
     },
     "metadata": {},
     "output_type": "display_data"
    }
   ],
   "source": [
    "# 2.1:\n",
    "import numpy as np\n",
    "import matplotlib.pyplot as plt\n",
    "\n",
    "\n",
    "data=np.array([52.3,56.6,64.6,72.5,79.9,86.4,89.1,88.1,82.2,72.7,63.6,54.0])\n",
    "\n",
    "minimum = np.min(data)\n",
    "Q1 = np.percentile(data, 23)\n",
    "median = np.median(data)\n",
    "Q3 = np.percentile(data, 77)\n",
    "maximum = np.max(data)\n",
    "\n",
    "print(\"Minimum:\", minimum)\n",
    "print(\"Maximum:\", maximum)\n",
    "print(\"Median:\", median)\n",
    "print(\"Q1:\", Q1)\n",
    "print(\"Q3:\", Q3)\n",
    "\n",
    "# 2.2: no there will be no outliers as every other data piont is with in limit of twice(+- std deviation ) as it can be seen in below image\n",
    "\n",
    "# 2.3: \n",
    "plt.boxplot(data)\n",
    "\n",
    "# Add labels and title\n",
    "plt.xlabel(\"Data\")\n",
    "plt.ylabel(\"Values\")\n",
    "plt.title(\"Climate data for Atlanta\")\n",
    "\n",
    "# Display the plot\n",
    "plt.show()\n",
    "\n",
    "# spans from the first quartile (Q1) to the third quartile (Q3). The length of the box indicates the spread of the middle 50% of the data. \n"
   ]
  },
  {
   "cell_type": "markdown",
   "metadata": {},
   "source": [
    "Problem 3 \n",
    "\n",
    "3.1: all the attributes are single valued and simple (atomic).\n",
    "\n",
    "The values that they take are nominal values.\n",
    "\n",
    "3.2: similarity value = nunber Of attributes with same attributes / total attributes = 2/3\n",
    "\n",
    "3.3: similarity value = 1/3"
   ]
  },
  {
   "cell_type": "markdown",
   "metadata": {},
   "source": [
    "problem 4\n",
    "4.1: Fever, Cough, sleepy, Headache, Running nose, Fatigue, Sweaty, Dizziness\n",
    "\n",
    "4.2: Headache, Running nose, Fatigue, Dizziness. 1/2\n",
    "\n",
    "4.3: Cough, sleepy, Fatigue, Dizziness. 1/2\n"
   ]
  },
  {
   "cell_type": "code",
   "execution_count": 3,
   "metadata": {},
   "outputs": [
    {
     "name": "stdout",
     "output_type": "stream",
     "text": [
      "Similarity values between A and B: 4.003748243833521\n",
      "Similarity values between B and C: 3.762977544445356\n"
     ]
    }
   ],
   "source": [
    "\n",
    "import numpy as np\n",
    "\n",
    "flower_a = np.array([5.1, 3.5, 1.4, 0.2])\n",
    "flower_b = np.array([7.0, 3.2, 4.7, 1.4])\n",
    "flower_c = np.array([4.8, 3.4, 1.9, 0.2])\n",
    "\n",
    "#5.1: Sepal length, sepal width, petal length, petal width\n",
    "#5.2: I choose petal width and petal length because Sepal length and sepal width are not useful as they overlapped on the graph\n",
    "\n",
    "# 5.3\n",
    "# Calculate the Euclidean distance\n",
    "Similarity_values = np.linalg.norm(flower_a - flower_b)\n",
    "print(\"Similarity values between A and B:\", Similarity_values)\n",
    "\n",
    "# 5.4\n",
    "Similarity_values2 = np.linalg.norm(flower_b - flower_c)\n",
    "print(\"Similarity values between B and C:\", Similarity_values2)\n",
    "\n",
    "\n",
    "\n"
   ]
  },
  {
   "cell_type": "markdown",
   "metadata": {},
   "source": [
    "problem 6\n",
    "6.1: excellent: o, Very Good: 1, Good: 2, Fair: 3, Poor: 4\n",
    "Very High: o, High: 1, Medium: 2, Low: 3\n",
    "Senior: 0, Middle Age: 1, Yoyng: 2\n",
    "6.2: cos(θ) = ((1*0)+(1*1)+(0*1))/(sqrt(0^2 + 1^2 + 0^2)* sqrt(1^2 + 1^2 + 1^2)) = 1/sqrt(3) = 0.5774\n",
    "6.3: cos(θ) = ((1*2)+(1*2)+(1*2))/(sqrt(1^2 + 1^2 + 1^2)* sqrt(2^2 + 2^2 + 2^2)) = 6/sqrt(3*12) = 6/sqrt(36) = 6/6 = 1"
   ]
  },
  {
   "cell_type": "markdown",
   "metadata": {},
   "source": [
    "problem 7:\n",
    "MinMax = (5.7-5.1)/ (6.4-5.1)(1-0)+0 = 0.6/1.3 = 0.46\n",
    "MinMax = (6.2-5.1)/(6.4-5.1)(1-0)+0 = 1.1/1.3 * 1 = 0.84\n",
    "MinMax = (5.1 - 5.1)/(6.4 - 5.1) (1-0) +0 = 0/1.3 = 0\n",
    "MinMax = (6.4-5.1)/(6.4-5.1)(1-0)+0 = 1.3/1.3 = 1 \n",
    "Tom: 0.46\n",
    "Mat: 0.84\n",
    "Lucy: 0\n",
    "Brian: 1"
   ]
  }
 ],
 "metadata": {
  "kernelspec": {
   "display_name": "Python 3",
   "language": "python",
   "name": "python3"
  },
  "language_info": {
   "codemirror_mode": {
    "name": "ipython",
    "version": 3
   },
   "file_extension": ".py",
   "mimetype": "text/x-python",
   "name": "python",
   "nbconvert_exporter": "python",
   "pygments_lexer": "ipython3",
   "version": "3.10.6"
  },
  "orig_nbformat": 4
 },
 "nbformat": 4,
 "nbformat_minor": 2
}
